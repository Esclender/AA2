{
 "cells": [
  {
   "cell_type": "markdown",
   "metadata": {},
   "source": [
    "1. Configuración Inicial y Librerías\n",
    "Explicación:\n",
    "Importamos las librerías necesarias para el análisis y procesamiento de datos\n",
    "pandas: Para manipulación de datos\n",
    "numpy: Para operaciones numéricas\n",
    "seaborn y matplotlib: Para visualizaciones\n",
    "datetime: Para manejo de fechas\n",
    "Configuramos el estilo de las gráficas para mejor visualización"
   ]
  },
  {
   "cell_type": "code",
   "execution_count": null,
   "metadata": {},
   "outputs": [],
   "source": [
    "import pandas as pd\n",
    "import numpy as np\n",
    "import seaborn as sns\n",
    "import matplotlib.pyplot as plt\n",
    "from datetime import datetime\n",
    "\n",
    "plt.style.use('default')\n",
    "sns.set_theme()\n",
    "plt.rcParams['figure.figsize'] = (12, 8)"
   ]
  },
  {
   "cell_type": "markdown",
   "metadata": {},
   "source": [
    "2. Carga de Datos\n",
    "Explicación:\n",
    "Cargamos el dataset desde el archivo CSV\n",
    "Mostramos las primeras 5 filas para verificar la carga correcta"
   ]
  },
  {
   "cell_type": "code",
   "execution_count": null,
   "metadata": {},
   "outputs": [],
   "source": [
    "df = pd.read_csv('../data/chatbot_satisfaction_dataset_utf8.csv')\n",
    "df.head()"
   ]
  },
  {
   "cell_type": "markdown",
   "metadata": {},
   "source": [
    "3. Ingeniería de Características Temporales\n",
    "Explicación:\n",
    "Convertimos la columna de fecha a formato datetime para poder extraer componentes temporales\n",
    "Extraemos el año de la consulta\n",
    "Extraemos el mes de la consulta\n",
    "Extraemos el día de la semana (0-6, donde 0 es lunes)\n",
    "Extraemos el trimestre del año\n",
    "Creamos una variable binaria que indica si la consulta fue en fin de semana"
   ]
  },
  {
   "cell_type": "code",
   "execution_count": null,
   "metadata": {},
   "outputs": [],
   "source": [
    "# Convertir fecha_consulta a datetime\n",
    "df['fecha_consulta'] = pd.to_datetime(df['fecha_consulta'])\n",
    "\n",
    "# Extraer características temporales\n",
    "df['año_consulta'] = df['fecha_consulta'].dt.year\n",
    "df['mes_consulta'] = df['fecha_consulta'].dt.month\n",
    "df['dia_semana'] = df['fecha_consulta'].dt.dayofweek\n",
    "df['trimestre'] = df['fecha_consulta'].dt.quarter\n",
    "\n",
    "# Crear variable binaria para fin de semana\n",
    "df['es_fin_semana'] = df['dia_semana'].isin([5, 6]).astype(int)"
   ]
  },
  {
   "cell_type": "markdown",
   "metadata": {},
   "source": [
    "4. Ingeniería de Características de Tiempo de Servicio\n",
    "   Explicación:\n",
    "Calculamos el tiempo total de atención sumando tiempo de consulta y espera\n",
    "Creamos un ratio que muestra la proporción entre tiempo de espera y tiempo de consulta\n",
    "Categorizamos el tiempo de espera en 4 niveles usando cuartiles"
   ]
  },
  {
   "cell_type": "code",
   "execution_count": null,
   "metadata": {},
   "outputs": [],
   "source": [
    "# Calcular tiempo total de atención\n",
    "df['tiempo_total_atencion'] = df['tiempo_consulta'] + df['tiempo_espera']\n",
    "\n",
    "# Calcular ratio de tiempo de espera vs tiempo de consulta\n",
    "df['ratio_tiempo_espera_consulta'] = df['tiempo_espera'] / df['tiempo_consulta']\n",
    "\n",
    "# Crear categorías de tiempo de espera\n",
    "df['categoria_tiempo_espera'] = pd.qcut(df['tiempo_espera'], q=4, labels=['Muy Bajo', 'Bajo', 'Alto', 'Muy Alto'])"
   ]
  },
  {
   "cell_type": "markdown",
   "metadata": {},
   "source": [
    "5. Ingeniería de Características de Calidad y Satisfacción\n",
    "   Explicación:\n",
    "Combinamos la calidad del servicio con la resolución de la consulta\n",
    "Creamos un índice de satisfacción general promediando satisfacción e índice promotor\n",
    "Calculamos la eficiencia del servicio basada en la resolución y el tiempo total"
   ]
  },
  {
   "cell_type": "code",
   "execution_count": null,
   "metadata": {},
   "outputs": [],
   "source": [
    "# Crear variable combinada de calidad y resolución\n",
    "df['calidad_resolucion'] = df['calidad_del_servicio'] * df['consulta_resuelta'].astype(int)\n",
    "\n",
    "# Crear variable de satisfacción general\n",
    "df['satisfaccion_general'] = (df['satisfaccion_estudiante'] + df['indice_promotor_neto']) / 2\n",
    "\n",
    "# Crear variable de eficiencia del servicio\n",
    "df['eficiencia_servicio'] = df['consulta_resuelta'].astype(int) / (df['tiempo_total_atencion'] + 1)"
   ]
  },
  {
   "cell_type": "markdown",
   "metadata": {},
   "source": [
    "6. Codificación de Variables Categóricas\n",
    "Explicación:\n",
    "Convertimos variables categóricas a formato numérico\n",
    "Usamos one-hot encoding para tipo de consulta y mes\n",
    "Usamos codificación ordinal para urgencia (1=Baja, 2=Media, 3=Alta)"
   ]
  },
  {
   "cell_type": "code",
   "execution_count": null,
   "metadata": {},
   "outputs": [],
   "source": [
    "# Codificación one-hot para tipo_consulta\n",
    "tipo_consulta_dummies = pd.get_dummies(df['tipo_consulta'], prefix='tipo_consulta')\n",
    "df = pd.concat([df, tipo_consulta_dummies], axis=1)\n",
    "\n",
    "# Codificación ordinal para urgencia\n",
    "urgencia_map = {'Baja': 1, 'Media': 2, 'Alta': 3}\n",
    "df['urgencia_encoded'] = df['urgencia'].map(urgencia_map)\n",
    "\n",
    "# Codificación one-hot para mes_consulta\n",
    "mes_dummies = pd.get_dummies(df['mes_consulta'], prefix='mes')\n",
    "df = pd.concat([df, mes_dummies], axis=1)"
   ]
  },
  {
   "cell_type": "markdown",
   "metadata": {},
   "source": [
    "7. Creación de Características de Interacción\n",
    "Explicación:\n",
    "Creamos variables de interacción entre diferentes características\n",
    "Estas interacciones pueden capturar relaciones no lineales entre variables"
   ]
  },
  {
   "cell_type": "code",
   "execution_count": null,
   "metadata": {},
   "outputs": [],
   "source": [
    "# Interacción entre urgencia y tiempo de espera\n",
    "df['urgencia_tiempo_espera'] = df['urgencia_encoded'] * df['tiempo_espera']\n",
    "\n",
    "# Interacción entre calidad y tiempo de consulta\n",
    "df['calidad_tiempo_consulta'] = df['calidad_del_servicio'] * df['tiempo_consulta']\n",
    "\n",
    "# Interacción entre derivado y tiempo total\n",
    "df['derivado_tiempo_total'] = df['derivado'].astype(int) * df['tiempo_total_atencion']"
   ]
  },
  {
   "cell_type": "markdown",
   "metadata": {},
   "source": [
    "8. Normalización de Variables Numéricas\n",
    "Explicación:\n",
    "Normalizamos las variables numéricas para que estén en el rango [0,1]\n",
    "Esto ayuda a que todas las variables tengan la misma escala\n",
    "Mejora el rendimiento de los algoritmos de machine learning"
   ]
  },
  {
   "cell_type": "code",
   "execution_count": null,
   "metadata": {},
   "outputs": [],
   "source": [
    "from sklearn.preprocessing import MinMaxScaler\n",
    "\n",
    "# Seleccionar variables numéricas para normalizar\n",
    "numeric_features = ['tiempo_consulta', 'tiempo_espera', 'tiempo_total_atencion', \n",
    "                   'ratio_tiempo_espera_consulta', 'eficiencia_servicio']\n",
    "\n",
    "# Aplicar normalización Min-Max\n",
    "scaler = MinMaxScaler()\n",
    "df[numeric_features] = scaler.fit_transform(df[numeric_features])"
   ]
  },
  {
   "cell_type": "markdown",
   "metadata": {},
   "source": [
    "9. Guardado del Dataset Procesado\n",
    "Explicación:\n",
    "Guardamos el dataset procesado con todas las nuevas características\n",
    "El archivo se guarda en formato CSV\n",
    "No incluimos el índice en el archivo guardado\n",
    "¿Te gustaría que profundice en alguna de estas secciones o que te explique algún concepto específico con más detalle?"
   ]
  },
  {
   "cell_type": "code",
   "execution_count": null,
   "metadata": {},
   "outputs": [],
   "source": [
    "# Guardar dataset procesado\n",
    "df.to_csv('../data/chatbot_satisfaction_dataset_engineered.csv', index=False)\n",
    "print(\"Dataset guardado exitosamente con las nuevas características\")"
   ]
  }
 ],
 "metadata": {
  "kernelspec": {
   "display_name": "BIGDATA",
   "language": "python",
   "name": "python3"
  },
  "language_info": {
   "name": "python",
   "version": "3.9.20"
  }
 },
 "nbformat": 4,
 "nbformat_minor": 2
}
